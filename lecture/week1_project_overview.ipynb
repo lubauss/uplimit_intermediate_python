{
  "nbformat": 4,
  "nbformat_minor": 0,
  "metadata": {
    "colab": {
      "provenance": [],
      "collapsed_sections": [
        "j2yuBotO8hVD",
        "WM82Wxdt8BDt",
        "uBWGZqASCink",
        "sgyEEgOBVKGJ"
      ],
      "toc_visible": true
    },
    "kernelspec": {
      "name": "python3",
      "display_name": "Python 3"
    },
    "language_info": {
      "name": "python"
    }
  },
  "cells": [
    {
      "cell_type": "markdown",
      "source": [
        "# Comprehensions"
      ],
      "metadata": {
        "id": "j2yuBotO8hVD"
      }
    },
    {
      "cell_type": "code",
      "source": [
        "# =============================================================================\n",
        "# List comprehensions (iteration)\n",
        "# =============================================================================\n",
        "\n",
        "numbers = [1, 2, 3, 4]\n",
        "squares = [x*x for x in numbers]\n",
        "\n",
        "print('Original numbers:', numbers)\n",
        "print('Squares:', squares)"
      ],
      "metadata": {
        "id": "-tWn9gKJ8hBF"
      },
      "execution_count": null,
      "outputs": []
    },
    {
      "cell_type": "code",
      "source": [
        "# list comprehension with condition\n",
        "\n",
        "[x*x for x in numbers if x > 2]"
      ],
      "metadata": {
        "id": "htK0jYl8VfXM"
      },
      "execution_count": null,
      "outputs": []
    },
    {
      "cell_type": "code",
      "source": [
        "# =============================================================================\n",
        "# Dict comprehensions\n",
        "# =============================================================================\n",
        "\n",
        "numbers = [1, 2, 3, 4]\n",
        "squares = {x: x*x for x in numbers}\n",
        "\n",
        "print('Original numbers:', numbers)\n",
        "print('Squares:', squares)"
      ],
      "metadata": {
        "id": "PZA6geRI9Frs"
      },
      "execution_count": null,
      "outputs": []
    },
    {
      "cell_type": "code",
      "source": [
        "# =============================================================================\n",
        "# Merge keys and values into dict\n",
        "# =============================================================================\n",
        "\n",
        "keys = [1, 2, 3, 4]\n",
        "values = [\"one\", \"two\", \"three\", \"four\"]\n",
        "\n",
        "{k: values[i] for i, k in enumerate(keys)}\n"
      ],
      "metadata": {
        "id": "yRhoWJ4s9sRI"
      },
      "execution_count": null,
      "outputs": []
    },
    {
      "cell_type": "code",
      "source": [
        "# same as above but concise (with zip function)\n",
        "\n",
        "keys = [1, 2, 3, 4]\n",
        "values = [\"one\", \"two\", \"three\", \"four\", \"five\"]\n",
        "\n",
        "dict(zip(keys, values))"
      ],
      "metadata": {
        "id": "4VLOlvHT-zHS"
      },
      "execution_count": null,
      "outputs": []
    },
    {
      "cell_type": "code",
      "source": [
        "# Q: what if there will be more keys or values?"
      ],
      "metadata": {
        "id": "2S7_jDhNVX9G"
      },
      "execution_count": null,
      "outputs": []
    },
    {
      "cell_type": "markdown",
      "source": [
        "# Generators"
      ],
      "metadata": {
        "id": "WM82Wxdt8BDt"
      }
    },
    {
      "cell_type": "code",
      "source": [
        "# =============================================================================\n",
        "# Generator comprehension (in parentheses)\n",
        "# Returns one object at a time\n",
        "# =============================================================================\n",
        "\n",
        "numbers = [1, 2, 3, 4]\n",
        "squares_generator = (x*x for x in numbers)\n",
        "\n",
        "squares_generator"
      ],
      "metadata": {
        "id": "23c8QpeF_snx"
      },
      "execution_count": null,
      "outputs": []
    },
    {
      "cell_type": "code",
      "source": [
        "next(squares_generator)"
      ],
      "metadata": {
        "id": "hoFkKXqHqwqN"
      },
      "execution_count": null,
      "outputs": []
    },
    {
      "cell_type": "code",
      "source": [
        "try:\n",
        "  print(next(squares_generator))\n",
        "except StopIteration:\n",
        "  print('No more objects')"
      ],
      "metadata": {
        "id": "MmdDZLAkAMoy"
      },
      "execution_count": null,
      "outputs": []
    },
    {
      "cell_type": "code",
      "source": [
        "# =============================================================================\n",
        "# Use `yield` keyword to create generator\n",
        "# =============================================================================\n",
        "\n",
        "# infinite sequence of numbers\n",
        "\n",
        "def infinite_counter():\n",
        "  x = 1\n",
        "  while True:\n",
        "    yield x\n",
        "    x = x + 1\n",
        "\n",
        "counter = infinite_counter()\n",
        "\n",
        "counter"
      ],
      "metadata": {
        "id": "9Y17y_Ni8CKS"
      },
      "execution_count": null,
      "outputs": []
    },
    {
      "cell_type": "code",
      "source": [
        "next(counter)"
      ],
      "metadata": {
        "id": "WNIXGSUv_iNO"
      },
      "execution_count": null,
      "outputs": []
    },
    {
      "cell_type": "code",
      "source": [
        "# =============================================================================\n",
        "# Fibonacci sequence\n",
        "# =============================================================================\n",
        "\n",
        "def fibonacci(limit):\n",
        "    a, b = 0, 1\n",
        "    while a < limit:\n",
        "        yield a\n",
        "        a, b = b, a + b\n",
        "\n",
        "fib_gen = fibonacci(100)"
      ],
      "metadata": {
        "id": "AhyUUyBCA5EY"
      },
      "execution_count": null,
      "outputs": []
    },
    {
      "cell_type": "code",
      "source": [
        "# list comprehension with generator\n",
        "\n",
        "[x for x in fib_gen]"
      ],
      "metadata": {
        "id": "mS11kZZjsd8H"
      },
      "execution_count": null,
      "outputs": []
    },
    {
      "cell_type": "code",
      "source": [
        "# =============================================================================\n",
        "# Try it yourself: infinite Fibonacci numbers generator\n",
        "# =============================================================================\n",
        "\n",
        "def infinite_fibonacci():\n",
        "    a, b = 0, 1\n",
        "    while True:\n",
        "        yield a\n",
        "        a, b = b, a + b"
      ],
      "metadata": {
        "id": "oCfU88rhBsxU"
      },
      "execution_count": null,
      "outputs": []
    },
    {
      "cell_type": "markdown",
      "source": [
        "# Higher-order functions"
      ],
      "metadata": {
        "id": "uBWGZqASCink"
      }
    },
    {
      "cell_type": "code",
      "source": [
        "# =============================================================================\n",
        "# Simple calculator\n",
        "# =============================================================================\n",
        "\n",
        "def sum_operation(a, b):\n",
        "  return a + b\n",
        "\n",
        "def mult_operation(a, b):\n",
        "  return a * b\n",
        "\n",
        "def calculator(a, b, operation):\n",
        "  return operation(a, b)\n",
        "\n",
        "print(calculator(5, 6, sum_operation))\n",
        "print(calculator(5, 6, mult_operation))"
      ],
      "metadata": {
        "id": "DG5EJ_5uCovn"
      },
      "execution_count": null,
      "outputs": []
    },
    {
      "cell_type": "code",
      "source": [
        "# possible mistake: pass a function call instead of function signature\n",
        "calculator(5, 6, sum_operation)"
      ],
      "metadata": {
        "id": "j-JajxIfDnCw"
      },
      "execution_count": null,
      "outputs": []
    },
    {
      "cell_type": "code",
      "source": [
        "# lambda functions\n",
        "\n",
        "calculator(5, 6, lambda x, y: x / y)"
      ],
      "metadata": {
        "id": "OeMFwob7E_U-"
      },
      "execution_count": null,
      "outputs": []
    },
    {
      "cell_type": "code",
      "source": [
        "# don't reinvent the wheel :)\n",
        "\n",
        "import operator\n",
        "\n",
        "calculator(5, 6, operator.add)\n",
        "calculator(5, 6, operator.mul)"
      ],
      "metadata": {
        "id": "hRTuBiSFNA97"
      },
      "execution_count": null,
      "outputs": []
    },
    {
      "cell_type": "code",
      "source": [
        "# =============================================================================\n",
        "# Classical functional programming functions: `map`, `filter`, `reduce`\n",
        "# =============================================================================\n",
        "\n",
        "# map(function, iterable) -- iterate over and apply a function\n",
        "\n",
        "numbers = [1, 2, 3, 4]\n",
        "add_one = lambda x: x + 1\n",
        "\n",
        "map(add_one, numbers)"
      ],
      "metadata": {
        "id": "18606HFAE_KW"
      },
      "execution_count": null,
      "outputs": []
    },
    {
      "cell_type": "code",
      "source": [
        "list(map(add_one, numbers))"
      ],
      "metadata": {
        "id": "43lKgcGVchmZ"
      },
      "execution_count": null,
      "outputs": []
    },
    {
      "cell_type": "code",
      "source": [
        "# filter(function -> bool, iterable)\n",
        "\n",
        "numbers = range(20)\n",
        "is_even = lambda x: x % 2 == 0\n",
        "\n",
        "list(filter(is_even, numbers))"
      ],
      "metadata": {
        "id": "pBPD8zuMF4ER"
      },
      "execution_count": null,
      "outputs": []
    },
    {
      "cell_type": "code",
      "source": [
        "# reduce(function, iterable, [initial value])\n",
        "\n",
        "from functools import reduce\n",
        "\n",
        "numbers = [1, 2, 3, 4, 5, 6, 7, 8]\n",
        "add_func = lambda accumulator, current_value: accumulator + current_value\n",
        "\n",
        "reduce(add_func, numbers, 5)"
      ],
      "metadata": {
        "id": "8t1kw3OmGDLT"
      },
      "execution_count": null,
      "outputs": []
    },
    {
      "cell_type": "code",
      "source": [
        "# Q: find max value from a list\n",
        "\n",
        "numbers = [1, 2, 3, 4, 5, 6, 7, 8]\n",
        "\n",
        "reduce(lambda a, c: c if c > a else a, numbers)\n"
      ],
      "metadata": {
        "id": "ZpmR6tA_wPcP"
      },
      "execution_count": null,
      "outputs": []
    },
    {
      "cell_type": "code",
      "source": [
        "max(numbers)"
      ],
      "metadata": {
        "id": "zrEJKKrMiaQr"
      },
      "execution_count": null,
      "outputs": []
    },
    {
      "cell_type": "markdown",
      "source": [
        "# Object Oriented Programming"
      ],
      "metadata": {
        "id": "F7Xp3JAIGtrX"
      }
    },
    {
      "cell_type": "code",
      "source": [
        "# =============================================================================\n",
        "# Class Example\n",
        "# =============================================================================\n",
        "\n",
        "class Dog:\n",
        "    # object initialization\n",
        "    def __init__(self, name, breed):\n",
        "        # assign attributes\n",
        "        self.name = name\n",
        "        self.breed = breed\n",
        "\n",
        "    # method\n",
        "    def bark(self):\n",
        "        print(f\"{self.name} says: Woof! Woof!\")\n",
        "\n",
        "# creating instance of the class\n",
        "dog1 = Dog(\"Buddy\", \"Golden Retriever\")\n",
        "dog2 = Dog(\"Max\", \"Labrador\")\n",
        "\n",
        "# accessing attributes and methods\n",
        "print(dog1.name)  # Buddy\n",
        "dog1.name = \"Rocky\"\n",
        "\n",
        "print(dog1.name)  # Rocky\n",
        "dog1.bark()  # Rocky says: Woof! Woof!"
      ],
      "metadata": {
        "id": "EwP2owUgGtHI"
      },
      "execution_count": null,
      "outputs": []
    },
    {
      "cell_type": "markdown",
      "source": [
        "## Inheritance"
      ],
      "metadata": {
        "id": "ixFY4OXgVrK4"
      }
    },
    {
      "cell_type": "code",
      "source": [
        "# =============================================================================\n",
        "# Inheritance\n",
        "# =============================================================================\n",
        "\n",
        "class Animal:\n",
        "    def __init__(self, species):\n",
        "        self.species = species\n",
        "\n",
        "class Dog(Animal):\n",
        "    def __init__(self, species, name, breed):\n",
        "        super().__init__(species) # init of inherited class\n",
        "        self.name = name\n",
        "        self.breed = breed\n",
        "\n",
        "class Cat(Animal):\n",
        "    def __init__(self, species, name, breed):\n",
        "        super().__init__(species)\n",
        "        self.name = name\n",
        "        self.breed = breed\n",
        "\n",
        "\n",
        "dog = Dog(\"Mammal\", \"Buddy\", \"Golden Retriever\")\n",
        "\n",
        "print(dog.species)  # Mammal\n",
        "print(dog.name)     # Buddy\n",
        "print(dog.breed)    # Golden Retriever\n",
        "\n",
        "cat = Cat(\"Mammal\", \"Coco\", \"Domestic Short Hair\")\n",
        "print(cat.species)\n",
        "print(cat.name)\n",
        "print(cat.breed)"
      ],
      "metadata": {
        "id": "WUIm148ZOZ03"
      },
      "execution_count": null,
      "outputs": []
    },
    {
      "cell_type": "code",
      "source": [
        "# =============================================================================\n",
        "# Multiple Inheritance\n",
        "# Allows a class to inherit from more than one parent class.\n",
        "# =============================================================================\n",
        "\n",
        "class Swim:\n",
        "    def swim(self):\n",
        "        print(\"I can swim\")\n",
        "    def speak(self):\n",
        "        print(\"Let's swim\")\n",
        "\n",
        "class Fly:\n",
        "    def fly(self):\n",
        "        print(\"I can fly\")\n",
        "    def speak(self):\n",
        "        print(\"Let's fly!\")\n",
        "\n",
        "class Duck(Swim, Fly):\n",
        "    def speak(self):\n",
        "        print(\"I'm duck\")\n",
        "        super(Duck, self).speak()\n",
        "        super(Swim, self).speak()\n",
        "\n",
        "\n",
        "duck = Duck()\n",
        "duck.swim()\n",
        "duck.fly()\n",
        "duck.speak()"
      ],
      "metadata": {
        "id": "0ia0d-SCO1aH"
      },
      "execution_count": null,
      "outputs": []
    },
    {
      "cell_type": "code",
      "source": [
        "# =============================================================================\n",
        "# Method Resolution Order\n",
        "# =============================================================================\n",
        "\n",
        "Duck.mro()"
      ],
      "metadata": {
        "id": "mHAoJrwUPCS0"
      },
      "execution_count": null,
      "outputs": []
    },
    {
      "cell_type": "code",
      "source": [
        "# Q: how to make duck say \"Let's swim\" and \"Let's fly\"?"
      ],
      "metadata": {
        "id": "UF0jw8RZenRb"
      },
      "execution_count": null,
      "outputs": []
    },
    {
      "cell_type": "markdown",
      "source": [
        "## Encapsulation"
      ],
      "metadata": {
        "id": "kS2E69qAVwKI"
      }
    },
    {
      "cell_type": "code",
      "source": [
        "# =============================================================================\n",
        "# Encapsulation (access restriction)\n",
        "# Use _protected and __private attributes and methods\n",
        "# =============================================================================\n",
        "\n",
        "class Temperature:\n",
        "    def __init__(self, celsius=0):\n",
        "        self.__celsius = celsius   # private attribute\n",
        "\n",
        "    def get_celsius(self):\n",
        "        return self.__celsius\n",
        "\n",
        "    def set_celsius(self, celsius):\n",
        "        self.__celsius = celsius\n",
        "\n",
        "    def get_fahrenheit(self):\n",
        "        return self.__celsius * (9 / 5) + 32\n",
        "\n",
        "    def set_fahrenheit(self, fahrenheit):\n",
        "        self.__celsius = (fahrenheit - 32) * (5 / 9)\n",
        "\n",
        "temp = Temperature(10)\n",
        "temp.get_celsius()"
      ],
      "metadata": {
        "id": "Lms69irpP5uf"
      },
      "execution_count": null,
      "outputs": []
    },
    {
      "cell_type": "code",
      "source": [
        "temp.set_fahrenheit(68)\n",
        "\n",
        "temp.get_celsius()"
      ],
      "metadata": {
        "id": "jQowlZB9hqfm"
      },
      "execution_count": null,
      "outputs": []
    },
    {
      "cell_type": "code",
      "source": [
        "# AttributeError\n",
        "\n",
        "temp.__celsius"
      ],
      "metadata": {
        "id": "dGyyAoe2UgPm"
      },
      "execution_count": null,
      "outputs": []
    },
    {
      "cell_type": "code",
      "source": [
        "# However. Python performs name mangling of private variables.\n",
        "# Every member with a double underscore will be changed to _class__variable.\n",
        "# So, it can still be accessed from outside the class,\n",
        "# but the practice should be refrained.\n",
        "# https://www.tutorialsteacher.com/python/public-private-protected-modifiers\n",
        "\n",
        "temp._Temperature__celsius = 40"
      ],
      "metadata": {
        "id": "t6gbQ03pUsrb"
      },
      "execution_count": null,
      "outputs": []
    },
    {
      "cell_type": "code",
      "source": [
        "temp.get_celsius()"
      ],
      "metadata": {
        "id": "qrTlwvd-iAUx"
      },
      "execution_count": null,
      "outputs": []
    },
    {
      "cell_type": "markdown",
      "source": [
        "## @staticmethod and @classmethod"
      ],
      "metadata": {
        "id": "PU7KMNZYvw_H"
      }
    },
    {
      "cell_type": "code",
      "source": [
        "# =============================================================================\n",
        "# @ staticmethod\n",
        "#\n",
        "# Static methods are independent of the class instance\n",
        "# and behave like regular functions.\n",
        "# Use:\n",
        "#   - Utility functions\n",
        "#   - Operations that don't require access to instance-specific data\n",
        "\n",
        "# =============================================================================\n",
        "\n",
        "class StringUtils:\n",
        "    @staticmethod\n",
        "    def reverse_string(s):\n",
        "        return s[::-1]\n",
        "\n",
        "    @staticmethod\n",
        "    def is_palindrome(s):\n",
        "        return s == s[::-1]\n",
        "\n",
        "    @staticmethod\n",
        "    def word_count(s):\n",
        "        return len(s.split())\n",
        "\n",
        "print(StringUtils.reverse_string(\"Python\"))\n",
        "print(StringUtils.is_palindrome(\"racecar\"))\n",
        "print(StringUtils.word_count(\"Hello, world!\"))"
      ],
      "metadata": {
        "id": "zb2_-NU5VpTZ"
      },
      "execution_count": null,
      "outputs": []
    },
    {
      "cell_type": "code",
      "source": [
        "# =============================================================================\n",
        "# @ classmethod\n",
        "#\n",
        "# Class methods have access to the class itself\n",
        "# through the first parameter (cls).\n",
        "# Use: Alternative constructors, operations involving the class as a whole.\n",
        "# =============================================================================\n",
        "\n",
        "\n",
        "class User:\n",
        "    def __init__(self, first_name, last_name):\n",
        "        self.first_name = first_name\n",
        "        self.last_name = last_name\n",
        "\n",
        "    @classmethod\n",
        "    def from_string(cls, employee_string):\n",
        "        first_name, last_name = employee_string.split(',')\n",
        "        return cls(first_name, last_name)\n",
        "\n",
        "    def full_name(self):\n",
        "      return self.first_name + ' ' + self.last_name\n",
        "\n",
        "\n",
        "user_1 = User('Isaac', 'Newton')\n",
        "user_2 = User.from_string('Joseph,Fourier')\n",
        "\n",
        "print(user_1)\n",
        "print(user_2)\n",
        "\n",
        "print(user_1.full_name())\n",
        "print(user_2.full_name())"
      ],
      "metadata": {
        "id": "bZZdUFdAw8Hv"
      },
      "execution_count": null,
      "outputs": []
    },
    {
      "cell_type": "markdown",
      "source": [
        "# Project 1"
      ],
      "metadata": {
        "id": "sgyEEgOBVKGJ"
      }
    },
    {
      "cell_type": "code",
      "source": [
        "# Create sample file\n",
        "\n",
        "generated_data = '''StockCode,Description,UnitPrice,Quantity,TotalPrice,Country,InvoiceNo,Date\n",
        "82095,HEART BUTTONS JEWELLERY BOX,4.96,1,4.96,France,3038179a-d395-11ee-a15a-002248b9ed0d,2015/04/06\n",
        "21070,VINTAGE BILLBOARD MUG ,2.46,1,2.46,United States,303828b6-d395-11ee-a15a-002248b9ed0d,2015/10/15\n",
        "90036E,FLOWER GLASS GARLD NECKL36\"AMETHYST,7.95,1,7.95,India,30382c62-d395-11ee-a15a-002248b9ed0d,2015/01/12\n",
        "22595,GINGHAM HEART DECORATION,0.85,2,1.7,United Kingdom,30382f14-d395-11ee-a15a-002248b9ed0d,2015/01/11\n",
        "90058B,CRYSTAL STUD EARRINGS ASSORTED COL ,0.38,1,0.38,United Kingdom,303831bc-d395-11ee-a15a-002248b9ed0d,2015/07/31\n",
        "21723,ALPHABET HEARTS STICKER SHEET,1.63,2,3.26,United Kingdom,303834f0-d395-11ee-a15a-002248b9ed0d,2015/11/11\n",
        "22728,ALARM CLOCK BAKELIKE PINK,3.75,4,15.0,United States,303837ca-d395-11ee-a15a-002248b9ed0d,2015/06/14\n",
        "21031,SPACE CADET BLACK,1.25,2,2.5,China,30383a54-d395-11ee-a15a-002248b9ed0d,2015/10/24'''\n",
        "\n",
        "with open('sample_data.csv', 'w') as f:\n",
        "    f.write(generated_data)\n",
        "\n",
        "col_names = generated_data.split('\\n')[0].split(',')\n",
        "\n",
        "col_names"
      ],
      "metadata": {
        "id": "MBNhoZbnD19r"
      },
      "execution_count": null,
      "outputs": []
    },
    {
      "cell_type": "code",
      "source": [
        "# =============================================================================\n",
        "# Lazy file reader\n",
        "# =============================================================================\n",
        "\n",
        "def file_reader_generator(file_path, col_names):\n",
        "    pass\n",
        "\n",
        "gen = file_reader_generator('sample_data.csv', col_names)\n",
        "\n",
        "# print(next(gen))\n",
        "# print(next(gen))\n",
        "# print(next(gen))"
      ],
      "metadata": {
        "id": "HfhUVrwQVL75"
      },
      "execution_count": null,
      "outputs": []
    },
    {
      "cell_type": "code",
      "source": [],
      "metadata": {
        "id": "mwC645hTHfEn"
      },
      "execution_count": null,
      "outputs": []
    },
    {
      "cell_type": "markdown",
      "source": [
        "## Solution"
      ],
      "metadata": {
        "id": "q5c_lw3EHhnE"
      }
    },
    {
      "cell_type": "code",
      "source": [
        "def file_reader_generator(file_path, col_names):\n",
        "    for row in open(file_path, 'r'):\n",
        "        row_values = row.strip().split(',')\n",
        "        dict_row = {k: v for k, v in zip(col_names, row_values)}\n",
        "        yield dict_row\n",
        "\n",
        "gen = file_reader_generator('sample_data.csv', col_names)\n",
        "\n",
        "print(next(gen))\n",
        "print(next(gen))\n",
        "print(next(gen))"
      ],
      "metadata": {
        "id": "gHfEvBBYG3kN"
      },
      "execution_count": null,
      "outputs": []
    }
  ]
}