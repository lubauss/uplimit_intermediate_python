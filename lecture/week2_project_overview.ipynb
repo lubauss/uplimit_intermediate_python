{
  "nbformat": 4,
  "nbformat_minor": 0,
  "metadata": {
    "colab": {
      "provenance": [],
      "toc_visible": true
    },
    "kernelspec": {
      "name": "python3",
      "display_name": "Python 3"
    },
    "language_info": {
      "name": "python"
    }
  },
  "cells": [
    {
      "cell_type": "markdown",
      "source": [
        "# Multithreading"
      ],
      "metadata": {
        "id": "kWZpEhBGZPaL"
      }
    },
    {
      "cell_type": "code",
      "execution_count": null,
      "metadata": {
        "id": "LfWF2lIvZC6U",
        "colab": {
          "base_uri": "https://localhost:8080/"
        },
        "outputId": "257b3b64-bf97-466e-8679-79f1e76db97f"
      },
      "outputs": [
        {
          "output_type": "stream",
          "name": "stdout",
          "text": [
            "Process 1 started, response in 1 second(s)\n",
            "Process 1 finished (after 1 second(s))\n"
          ]
        }
      ],
      "source": [
        "# Let's simulate IO-bound task\n",
        "# Each task execution is randomly delayed\n",
        "# (e.g. waiting a response from database)\n",
        "\n",
        "import time\n",
        "import random\n",
        "\n",
        "def io_task(process_id):\n",
        "    seconds = random.randrange(1, 4)\n",
        "    print(f\"Process {process_id} started, response in {seconds} second(s)\")\n",
        "    time.sleep(seconds)\n",
        "    print(f\"Process {process_id} finished (after {seconds} second(s))\")\n",
        "\n",
        "io_task(1)"
      ]
    },
    {
      "cell_type": "code",
      "source": [
        "%%time\n",
        "\n",
        "for process_id in range(5):\n",
        "    io_task(process_id)"
      ],
      "metadata": {
        "id": "GPsGGasKbMp0",
        "colab": {
          "base_uri": "https://localhost:8080/"
        },
        "outputId": "ec0bf336-cbf2-474a-c69b-6a0b0c72b19a"
      },
      "execution_count": null,
      "outputs": [
        {
          "output_type": "stream",
          "name": "stdout",
          "text": [
            "Process 0 started, response in 2 second(s)\n",
            "Process 0 finished (after 2 second(s))\n",
            "Process 1 started, response in 2 second(s)\n",
            "Process 1 finished (after 2 second(s))\n",
            "Process 2 started, response in 1 second(s)\n",
            "Process 2 finished (after 1 second(s))\n",
            "Process 3 started, response in 1 second(s)\n",
            "Process 3 finished (after 1 second(s))\n",
            "Process 4 started, response in 2 second(s)\n",
            "Process 4 finished (after 2 second(s))\n",
            "CPU times: user 43 ms, sys: 7.08 ms, total: 50.1 ms\n",
            "Wall time: 8.01 s\n"
          ]
        }
      ]
    },
    {
      "cell_type": "code",
      "source": [
        "# Entering Threads\n",
        "\n",
        "import threading\n",
        "\n",
        "t = threading.Thread(target=io_task, args=(42,))\n",
        "\n",
        "t.start()\n",
        "t.join()\n",
        "\n",
        "# same as:\n",
        "# t.run()"
      ],
      "metadata": {
        "id": "EgbmVDx0fgDw",
        "colab": {
          "base_uri": "https://localhost:8080/"
        },
        "outputId": "3811fd65-b21d-4428-82d8-330b530a4cf1"
      },
      "execution_count": null,
      "outputs": [
        {
          "output_type": "stream",
          "name": "stdout",
          "text": [
            "Process 42 started, response in 2 second(s)\n",
            "Process 42 finished (after 2 second(s))\n"
          ]
        }
      ]
    },
    {
      "cell_type": "code",
      "source": [
        "%%time\n",
        "\n",
        "for process_id in range(5):\n",
        "    t = threading.Thread(target=io_task, args=(process_id,))\n",
        "    t.start()\n",
        "    t.join()"
      ],
      "metadata": {
        "id": "AMZYuprDdp4j",
        "colab": {
          "base_uri": "https://localhost:8080/"
        },
        "outputId": "8a7f7c9b-f7d1-400c-c206-5ec19310713d"
      },
      "execution_count": null,
      "outputs": [
        {
          "output_type": "stream",
          "name": "stdout",
          "text": [
            "Process 0 started, response in 2 second(s)\n",
            "Process 0 finished (after 2 second(s))\n",
            "Process 1 started, response in 1 second(s)\n",
            "Process 1 finished (after 1 second(s))\n",
            "Process 2 started, response in 2 second(s)\n",
            "Process 2 finished (after 2 second(s))\n",
            "Process 3 started, response in 1 second(s)\n",
            "Process 3 finished (after 1 second(s))\n",
            "Process 4 started, response in 3 second(s)\n",
            "Process 4 finished (after 3 second(s))\n",
            "CPU times: user 50.8 ms, sys: 7.38 ms, total: 58.2 ms\n",
            "Wall time: 9.02 s\n"
          ]
        }
      ]
    },
    {
      "cell_type": "code",
      "source": [
        "%%time\n",
        "\n",
        "threads = []\n",
        "\n",
        "for process_id in range(5):\n",
        "    t = threading.Thread(target=io_task, args=(process_id,))\n",
        "    threads.append(t)\n",
        "\n",
        "for t in threads:\n",
        "    t.start()\n",
        "\n",
        "for t in threads:\n",
        "    t.join()"
      ],
      "metadata": {
        "id": "sHvfpnFBeZVH",
        "colab": {
          "base_uri": "https://localhost:8080/"
        },
        "outputId": "d2b872bf-69a8-4e91-a6c1-82b668828566"
      },
      "execution_count": null,
      "outputs": [
        {
          "output_type": "stream",
          "name": "stdout",
          "text": [
            "Process 0 started, response in 2 second(s)\n",
            "Process 1 started, response in 2 second(s)\n",
            "Process 2 started, response in 2 second(s)\n",
            "Process 3 started, response in 3 second(s)Process 4 started, response in 2 second(s)\n",
            "\n",
            "Process 0 finished (after 2 second(s))\n",
            "Process 1 finished (after 2 second(s))\n",
            "Process 2 finished (after 2 second(s))\n",
            "Process 4 finished (after 2 second(s))\n",
            "Process 3 finished (after 3 second(s))\n",
            "CPU times: user 22.1 ms, sys: 5.13 ms, total: 27.2 ms\n",
            "Wall time: 3.01 s\n"
          ]
        }
      ]
    },
    {
      "cell_type": "markdown",
      "source": [
        "## Threads and returned values"
      ],
      "metadata": {
        "id": "Y7SXOe8Ql0-b"
      }
    },
    {
      "cell_type": "code",
      "source": [
        "# Unfortunately, Thread cannot return a result of task execution\n",
        "\n",
        "def io_task_with_return(process_id):\n",
        "    seconds = random.randrange(1, 4)\n",
        "    print(f\"Process {process_id} started, response in {seconds} second(s)\")\n",
        "    time.sleep(seconds)\n",
        "    print(f\"Process {process_id} finished (after {seconds} second(s))\")\n",
        "    return f\"Here is the result: {random.random()}\"\n",
        "\n",
        "result = io_task_with_return(1)\n",
        "\n",
        "print(result)"
      ],
      "metadata": {
        "id": "4rQ4u-W1j2jz",
        "colab": {
          "base_uri": "https://localhost:8080/"
        },
        "outputId": "49a7e3d2-7a5c-4882-eebb-2bce5facf324"
      },
      "execution_count": null,
      "outputs": [
        {
          "output_type": "stream",
          "name": "stdout",
          "text": [
            "Process 1 started, response in 1 second(s)\n",
            "Process 1 finished (after 1 second(s))\n",
            "Here is the result: 0.5809050753995355\n"
          ]
        }
      ]
    },
    {
      "cell_type": "code",
      "source": [
        "# However, no results from a thread...\n",
        "\n",
        "t = threading.Thread(target=io_task_with_return, args=(42,))\n",
        "\n",
        "t.start()\n",
        "\n",
        "t.join()\n",
        "\n",
        "# ¯\\_(ツ)_/¯"
      ],
      "metadata": {
        "id": "Fe6ygxtVkJrD",
        "colab": {
          "base_uri": "https://localhost:8080/"
        },
        "outputId": "28f003bb-2be1-4571-f1df-cfa6e0b1082f"
      },
      "execution_count": null,
      "outputs": [
        {
          "output_type": "stream",
          "name": "stdout",
          "text": [
            "Process 42 started, response in 1 second(s)\n",
            "Process 42 finished (after 1 second(s))\n"
          ]
        }
      ]
    },
    {
      "cell_type": "code",
      "source": [
        "# Solution 1: use mutable global object\n",
        "# Step 1: Modify the task\n",
        "# Step 2: Pass global object to it\n",
        "\n",
        "def io_task_with_return_2(process_id, results_object):\n",
        "    seconds = random.randrange(1, 4)\n",
        "    print(f\"Process {process_id} started, response in {seconds} second(s)\")\n",
        "    time.sleep(seconds)\n",
        "    print(f\"Process {process_id} finished (after {seconds} second(s))\")\n",
        "    result = f\"Here is the result: {random.random()}\"\n",
        "    results_object.append(result)\n",
        "    return result\n",
        "\n",
        "results = []\n",
        "\n",
        "t = threading.Thread(target=io_task_with_return_2, args=(42, results))\n",
        "t.start()\n",
        "t.join()\n",
        "\n",
        "print(results)"
      ],
      "metadata": {
        "id": "1KMWPUsGkebO",
        "colab": {
          "base_uri": "https://localhost:8080/"
        },
        "outputId": "ab61dfd9-7098-42da-d5cd-322adb213ef9"
      },
      "execution_count": null,
      "outputs": [
        {
          "output_type": "stream",
          "name": "stdout",
          "text": [
            "Process 42 started, response in 2 second(s)\n",
            "Process 42 finished (after 2 second(s))\n",
            "['Here is the result: 0.474396006472352']\n"
          ]
        }
      ]
    },
    {
      "cell_type": "code",
      "source": [
        "# Solution 2: use threads from `concurrent.futures` library\n",
        "\n",
        "import concurrent.futures\n",
        "\n",
        "with concurrent.futures.ThreadPoolExecutor() as executor:\n",
        "    future = executor.submit(io_task_with_return, 42)\n",
        "    return_value = future.result()\n",
        "    print(return_value)\n"
      ],
      "metadata": {
        "id": "P4iWvpS9lepi",
        "colab": {
          "base_uri": "https://localhost:8080/"
        },
        "outputId": "9f108d59-0188-4b0b-c5c2-58d472e4556f"
      },
      "execution_count": null,
      "outputs": [
        {
          "output_type": "stream",
          "name": "stdout",
          "text": [
            "Process 42 started, response in 1 second(s)\n",
            "Process 42 finished (after 1 second(s))\n",
            "Here is the result: 0.4931428335578516\n"
          ]
        }
      ]
    },
    {
      "cell_type": "code",
      "source": [
        "%%time\n",
        "\n",
        "with concurrent.futures.ThreadPoolExecutor() as executor:\n",
        "    futures = [executor.submit(io_task_with_return, id) for id in range(5)]\n",
        "    results = [future.result() for future in futures]\n",
        "    print('All results:')\n",
        "    [print(_) for _ in results]\n"
      ],
      "metadata": {
        "id": "GQZqi9BEmu0Q",
        "colab": {
          "base_uri": "https://localhost:8080/"
        },
        "outputId": "0ede5b6c-a9e5-488e-8d84-3dfefb6bef04"
      },
      "execution_count": null,
      "outputs": [
        {
          "output_type": "stream",
          "name": "stdout",
          "text": [
            "Process 0 started, response in 3 second(s)\n",
            "Process 1 started, response in 2 second(s)\n",
            "Process 2 started, response in 1 second(s)\n",
            "Process 3 started, response in 2 second(s)\n",
            "Process 4 started, response in 3 second(s)\n",
            "Process 2 finished (after 1 second(s))\n",
            "Process 3 finished (after 2 second(s))\n",
            "Process 1 finished (after 2 second(s))\n",
            "Process 0 finished (after 3 second(s))\n",
            "Process 4 finished (after 3 second(s))\n",
            "All results:\n",
            "Here is the result: 0.22190182858607888\n",
            "Here is the result: 0.4953590503339743\n",
            "Here is the result: 0.3410620585420795\n",
            "Here is the result: 0.8795457966231804\n",
            "Here is the result: 0.3498200449407156\n",
            "CPU times: user 26.2 ms, sys: 5.27 ms, total: 31.4 ms\n",
            "Wall time: 3.01 s\n"
          ]
        }
      ]
    },
    {
      "cell_type": "markdown",
      "source": [
        "# Multiprocessing"
      ],
      "metadata": {
        "id": "c3Go0Aw7uYj0"
      }
    },
    {
      "cell_type": "code",
      "source": [
        "# Check cores count\n",
        "\n",
        "import multiprocessing\n",
        "\n",
        "multiprocessing.cpu_count()"
      ],
      "metadata": {
        "id": "beZotYZT3qG1",
        "colab": {
          "base_uri": "https://localhost:8080/"
        },
        "outputId": "b53cb7cb-1901-499f-d948-71408f59926e"
      },
      "execution_count": null,
      "outputs": [
        {
          "output_type": "execute_result",
          "data": {
            "text/plain": [
              "2"
            ]
          },
          "metadata": {},
          "execution_count": 15
        }
      ]
    },
    {
      "cell_type": "code",
      "source": [
        "process = multiprocessing.Process(target=lambda x: print(x), args=(42,))\n",
        "\n",
        "process.start()\n",
        "process.join()"
      ],
      "metadata": {
        "id": "Uabs9d24ubEi",
        "colab": {
          "base_uri": "https://localhost:8080/"
        },
        "outputId": "a04e3540-e085-4841-b6d3-6e21d1235055"
      },
      "execution_count": null,
      "outputs": [
        {
          "output_type": "stream",
          "name": "stdout",
          "text": [
            "42\n"
          ]
        }
      ]
    },
    {
      "cell_type": "code",
      "source": [
        "import time\n",
        "# Let's simulate CPU-bound task\n",
        "\n",
        "def cpu_task(process_id):\n",
        "    start_time = time.time()\n",
        "    print(f'Process {process_id} started')\n",
        "    result = sum(range(100_000_000))\n",
        "    end_time = time.time()\n",
        "    print(f'Process {process_id} finished, time:', end_time - start_time)\n",
        "    return result\n",
        "\n",
        "cpu_task(1)"
      ],
      "metadata": {
        "id": "dwssmxqB4uP9",
        "colab": {
          "base_uri": "https://localhost:8080/"
        },
        "outputId": "e9a4ff82-b751-4a72-a66e-cf6ebe803e87"
      },
      "execution_count": null,
      "outputs": [
        {
          "output_type": "stream",
          "name": "stdout",
          "text": [
            "Process 1 started\n",
            "Process 1 finished, time: 2.37158465385437\n"
          ]
        },
        {
          "output_type": "execute_result",
          "data": {
            "text/plain": [
              "4999999950000000"
            ]
          },
          "metadata": {},
          "execution_count": 18
        }
      ]
    },
    {
      "cell_type": "code",
      "source": [
        "%%time\n",
        "\n",
        "for process_id in range(2):\n",
        "    cpu_task(process_id)"
      ],
      "metadata": {
        "id": "7VSU3Lfy63CP",
        "colab": {
          "base_uri": "https://localhost:8080/"
        },
        "outputId": "9f528fba-70e7-4845-a5cf-eb4356854145"
      },
      "execution_count": null,
      "outputs": [
        {
          "output_type": "stream",
          "name": "stdout",
          "text": [
            "Process 0 started\n",
            "Process 0 finished, time: 2.075269937515259\n",
            "Process 1 started\n",
            "Process 1 finished, time: 2.136685609817505\n",
            "CPU times: user 4.2 s, sys: 19.9 ms, total: 4.22 s\n",
            "Wall time: 4.21 s\n"
          ]
        }
      ]
    },
    {
      "cell_type": "code",
      "source": [
        "%%time\n",
        "\n",
        "processes = 4\n",
        "\n",
        "with multiprocessing.Pool(processes=processes) as pool:\n",
        "    results = pool.starmap(cpu_task, [(i,) for i in range(processes)])\n",
        "    print(results)\n"
      ],
      "metadata": {
        "id": "-soHd8cI7Iob",
        "colab": {
          "base_uri": "https://localhost:8080/"
        },
        "outputId": "32a5ce70-ddf3-48e6-92eb-7e80868d8d70"
      },
      "execution_count": null,
      "outputs": [
        {
          "output_type": "stream",
          "name": "stdout",
          "text": [
            "Process 0 startedProcess 1 startedProcess 3 started\n",
            "Process 2 started\n",
            "\n",
            "\n",
            "Process 0 finished, time: 10.336417436599731\n",
            "Process 3 finished, time: 10.383132457733154\n",
            "Process 1 finished, time: 10.44711422920227\n",
            "Process 2 finished, time: 10.492219686508179\n",
            "[4999999950000000, 4999999950000000, 4999999950000000, 4999999950000000]\n",
            "CPU times: user 106 ms, sys: 42.6 ms, total: 148 ms\n",
            "Wall time: 10.6 s\n"
          ]
        }
      ]
    },
    {
      "cell_type": "code",
      "source": [
        "# Try this code on your own machine\n",
        "\n",
        "import time\n",
        "import multiprocessing\n",
        "\n",
        "def cpu_task(process_id):\n",
        "    start_time = time.time()\n",
        "    print(f'Process {process_id} started')\n",
        "    result = sum(range(100_000_000))\n",
        "    end_time = time.time()\n",
        "    print(f'Process {process_id} finished, time:', end_time - start_time)\n",
        "    return result\n",
        "\n",
        "if __name__ == '__main__':\n",
        "    print('Cores:', multiprocessing.cpu_count())\n",
        "\n",
        "    print('Single task:')\n",
        "    cpu_task(1)\n",
        "\n",
        "    print('Multiprocessing pool:')\n",
        "    processes = 4\n",
        "    with multiprocessing.Pool(processes=processes) as pool:\n",
        "        results = pool.map(cpu_task, [(i,) for i in range(processes)])\n",
        "        print(results)"
      ],
      "metadata": {
        "id": "wkYeI2dYd-hI"
      },
      "execution_count": null,
      "outputs": []
    },
    {
      "cell_type": "markdown",
      "source": [
        "My output:\n",
        "```\n",
        "% time python test.py\n",
        "Cores: 8\n",
        "Single task:\n",
        "Process 1 started\n",
        "Process 1 finished, time: 2.047819137573242\n",
        "Multiprocessing pool:\n",
        "Process (0,) started\n",
        "Process (1,) started\n",
        "Process (2,) started\n",
        "Process (3,) started\n",
        "Process (2,) finished, time: 2.899091958999634\n",
        "Process (1,) finished, time: 2.988703966140747\n",
        "Process (0,) finished, time: 2.993403911590576\n",
        "Process (3,) finished, time: 2.966623067855835\n",
        "[4999999950000000, 4999999950000000, 4999999950000000, 4999999950000000]\n",
        "python test.py  8.61s user 0.43s system 162% cpu 5.566 total\n",
        "```"
      ],
      "metadata": {
        "id": "MqmxkhoaeTAP"
      }
    },
    {
      "cell_type": "code",
      "source": [],
      "metadata": {
        "id": "n33sBgzNfsPI"
      },
      "execution_count": null,
      "outputs": []
    },
    {
      "cell_type": "markdown",
      "source": [
        "# Project 2"
      ],
      "metadata": {
        "id": "sDf-0qXMuF68"
      }
    },
    {
      "cell_type": "code",
      "source": [
        "# Batching files\n",
        "\n",
        "from typing import List, DefaultDict\n",
        "\n",
        "# Batch files based on the number of processes.\n",
        "# (split file paths equally into N buckets)\n",
        "\n",
        "file_paths = [f'{i:02}.csv' for i in range(11)]\n",
        "n_processes = 3\n",
        "\n",
        "def batch_files(file_paths: List[str], n_processes: int) -> List[set]:\n",
        "    if n_processes > len(file_paths):\n",
        "        return []\n",
        "\n",
        "    #batches = []\n",
        "\n",
        "    # n_per_batch = len(file_paths) // n_processes\n",
        "    # first_list = file_paths[0: n_per_batch * n_processes]\n",
        "    # print(first_list)\n",
        "\n",
        "\n",
        "    batches = DefaultDict(list)\n",
        "\n",
        "    for i, file in enumerate(file_paths):\n",
        "        batches[i % n_processes].append(file)\n",
        "\n",
        "    return [batches[i] for i in batches]\n",
        "\n",
        "\n",
        "#print(file_paths)\n",
        "#print(n_processes)\n",
        "batch_files(file_paths, n_processes)"
      ],
      "metadata": {
        "colab": {
          "base_uri": "https://localhost:8080/"
        },
        "id": "K7PyWWStuHuS",
        "outputId": "48a70555-2b50-4984-aa2d-a676007a39e2"
      },
      "execution_count": null,
      "outputs": [
        {
          "output_type": "execute_result",
          "data": {
            "text/plain": [
              "[['00.csv', '03.csv', '06.csv', '09.csv'],\n",
              " ['01.csv', '04.csv', '07.csv', '10.csv'],\n",
              " ['02.csv', '05.csv', '08.csv']]"
            ]
          },
          "metadata": {},
          "execution_count": 31
        }
      ]
    },
    {
      "cell_type": "code",
      "source": [
        "# Multirocessing Pool\n",
        "\n",
        "# Suppose we have run() function that takes\n",
        "# a list of file paths and process them\n",
        "def run(file_paths, process_id):\n",
        "    import random\n",
        "    results = [random.random() for file in file_paths]\n",
        "    return sum(results)\n",
        "\n",
        "\n",
        "def main(file_paths):\n",
        "    # use batch_files() to split files\n",
        "    batches = [] # CODE HERE\n",
        "\n",
        "    # use multiprocessing.pool to process each batch with run() function\n",
        "    results = [] # CODE HERE\n",
        "\n",
        "    return results\n",
        "\n",
        "run(file_paths, 1)"
      ],
      "metadata": {
        "id": "ahKk-_G2RL-y"
      },
      "execution_count": null,
      "outputs": []
    }
  ]
}